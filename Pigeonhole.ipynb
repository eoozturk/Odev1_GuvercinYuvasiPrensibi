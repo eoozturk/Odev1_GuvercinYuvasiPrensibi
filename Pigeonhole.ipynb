{
  "nbformat": 4,
  "nbformat_minor": 0,
  "metadata": {
    "colab": {
      "name": "Pigeonhole.ipynb",
      "version": "0.3.2",
      "provenance": [],
      "collapsed_sections": [],
      "include_colab_link": true
    },
    "kernelspec": {
      "name": "python3",
      "display_name": "Python 3"
    }
  },
  "cells": [
    {
      "cell_type": "markdown",
      "metadata": {
        "id": "view-in-github",
        "colab_type": "text"
      },
      "source": [
        "<a href=\"https://colab.research.google.com/github/eoozturk/Pigeonhole_Princible/blob/master/Pigeonhole.ipynb\" target=\"_parent\"><img src=\"https://colab.research.google.com/assets/colab-badge.svg\" alt=\"Open In Colab\"/></a>"
      ]
    },
    {
      "cell_type": "markdown",
      "metadata": {
        "id": "B_0U7s4x_D3B",
        "colab_type": "text"
      },
      "source": [
        "**Soru: Güvercin Yasası Prensibi**\n",
        "\n",
        "Bir kampüste 18 adet oturma salonu bulunmaktadır. Öğrenci dekanı, bir salondaki  bilgisayar kullanımını anlamak için anket yapmak amacıyla seçeceği salondan 5 kişilik öğrenci komitesi oluşturmak ister ve salonlara duyurular asar. En az kaç kişi bu ankete cevap vermelidir ki, dekan bir salon seçip komite oluşturabilsin.\n",
        "\n",
        "**Çözüm:**\n",
        "\n",
        "k=4\n",
        "\n",
        "k.n+1 = 4.18 +1= 73 kişi ankete cevap vermelidir.\n",
        "\n",
        "**Açıklama:**\n",
        "\n",
        "Güvercin Yasası Prensibi: K güvercin sayısı, N yuva saysısı olmak üzere en az bir yuvada ceil(K/N) sayıda güvercin bulunur. Prensibi genelleştirirsek; eğer KxN+1 veya daha fazla güvercin, N yuvaya konulacaksa, en az bir yuvada K' dan fazla güvercin olacaktır.\n",
        "\n",
        "Soruda genel güvercin yuvası prensibi gereği, k=4 olur. Prensibin genelleştirilmiş haline göre k.n+1 = 4.18 +1= 73 cevabına ulaşılır."
      ]
    },
    {
      "cell_type": "code",
      "metadata": {
        "id": "0icPizlNc_68",
        "colab_type": "code",
        "outputId": "ffd3fe5a-d92e-4843-b983-fb4009654b2b",
        "colab": {
          "base_uri": "https://localhost:8080/",
          "height": 34
        }
      },
      "source": [
        "# Emre Ozan Öztürk\n",
        "\n",
        "import math\n",
        "\n",
        "def pigeonhole(x,y):\n",
        "  \n",
        "  k= math.ceil(x/y) # Güvercin Yasası Prensibine göre k hesaplanır.\n",
        "  \n",
        "  g=k*x+1 #Güvercin Yasası Prensibinin genelleştirilmiş haline göre işlem yapılır ve sonuç bulunur.\n",
        "  \n",
        "  return g\n",
        "\n",
        "sonuc=pigeonhole(18,5)\n",
        "print(\"Ankete cevap verecek kişi sayısı en az: \",sonuc)\n",
        "\n"
      ],
      "execution_count": 0,
      "outputs": [
        {
          "output_type": "stream",
          "text": [
            "Ankete cevap verecek kişi sayısı en az:  73\n"
          ],
          "name": "stdout"
        }
      ]
    }
  ]
}